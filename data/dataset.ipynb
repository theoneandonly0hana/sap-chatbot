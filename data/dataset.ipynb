{
 "cells": [
  {
   "cell_type": "code",
   "execution_count": 1,
   "id": "eb456fbc",
   "metadata": {},
   "outputs": [
    {
     "name": "stderr",
     "output_type": "stream",
     "text": [
      "d:\\sap-chatbot\\sap_cb\\lib\\site-packages\\tqdm\\auto.py:21: TqdmWarning: IProgress not found. Please update jupyter and ipywidgets. See https://ipywidgets.readthedocs.io/en/stable/user_install.html\n",
      "  from .autonotebook import tqdm as notebook_tqdm\n"
     ]
    },
    {
     "name": "stdout",
     "output_type": "stream",
     "text": [
      "DatasetDict({\n",
      "    train: Dataset({\n",
      "        features: ['pdf'],\n",
      "        num_rows: 830\n",
      "    })\n",
      "})\n",
      "['pdf']\n",
      "{'pdf': <pdfplumber.pdf.PDF object at 0x000001A986CDD120>}\n"
     ]
    }
   ],
   "source": [
    "from datasets import load_dataset\n",
    "\n",
    "ds = load_dataset(\"AyoubChLin/northwind_PurchaseOrders\")\n",
    "print(ds)\n",
    "print(ds[\"train\"].column_names[:20])  # ดูชื่อคอลัมน์ทั้งหมด\n",
    "print(ds[\"train\"][0])                 # ดู record แรก\n"
   ]
  }
 ],
 "metadata": {
  "kernelspec": {
   "display_name": "sap_cb",
   "language": "python",
   "name": "python3"
  },
  "language_info": {
   "codemirror_mode": {
    "name": "ipython",
    "version": 3
   },
   "file_extension": ".py",
   "mimetype": "text/x-python",
   "name": "python",
   "nbconvert_exporter": "python",
   "pygments_lexer": "ipython3",
   "version": "3.10.8"
  }
 },
 "nbformat": 4,
 "nbformat_minor": 5
}
